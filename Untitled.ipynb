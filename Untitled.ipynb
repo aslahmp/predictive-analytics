{
 "cells": [
  {
   "cell_type": "code",
   "execution_count": 1,
   "id": "55feccfd",
   "metadata": {},
   "outputs": [
    {
     "ename": "SyntaxError",
     "evalue": "invalid syntax. Perhaps you forgot a comma? (1013372061.py, line 19)",
     "output_type": "error",
     "traceback": [
      "\u001b[0;36m  Cell \u001b[0;32mIn[1], line 19\u001b[0;36m\u001b[0m\n\u001b[0;31m    print(\"Your love percentage is \" + first_digit +second digit)\u001b[0m\n\u001b[0m          ^\u001b[0m\n\u001b[0;31mSyntaxError\u001b[0m\u001b[0;31m:\u001b[0m invalid syntax. Perhaps you forgot a comma?\n"
     ]
    }
   ],
   "source": [
    "print(\"The love calculator is calculating your score...\")\n",
    "name1= input()\n",
    "name2= input()\n",
    "combined_names= name1+name2\n",
    "lower_names=combined_names.lower()\n",
    "\n",
    "t=lower_names.count(\"t\")\n",
    "r=lower_names.count(\"r\")\n",
    "u=lower_names.count(\"u\")\n",
    "e=lower_names.count(\"e\")\n",
    "first_digit = str(t +r+u+e)\n",
    "\n",
    "l=lower_names.count(\"l\")\n",
    "o=lower_names.count(\"o\")\n",
    "v=lower_names.count(\"v\")\n",
    "e=lower_names.count(\"e\")\n",
    "second_digit= str(l+o+v+e)\n",
    "\n",
    "print(\"Your love percentage is \" + first_digit +second digit)"
   ]
  }
 ],
 "metadata": {
  "kernelspec": {
   "display_name": "Python 3 (ipykernel)",
   "language": "python",
   "name": "python3"
  },
  "language_info": {
   "codemirror_mode": {
    "name": "ipython",
    "version": 3
   },
   "file_extension": ".py",
   "mimetype": "text/x-python",
   "name": "python",
   "nbconvert_exporter": "python",
   "pygments_lexer": "ipython3",
   "version": "3.11.5"
  }
 },
 "nbformat": 4,
 "nbformat_minor": 5
}

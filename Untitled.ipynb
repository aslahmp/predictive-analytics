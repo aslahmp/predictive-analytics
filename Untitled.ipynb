{
 "cells": [
  {
   "cell_type": "code",
   "execution_count": 1,
   "id": "55feccfd",
   "metadata": {},
   "outputs": [],
   "source": [
    "import pandas as pd"
   ]
  },
  {
   "cell_type": "code",
   "execution_count": 2,
   "id": "25fe7da8",
   "metadata": {},
   "outputs": [],
   "source": [
    "filename='invoices'"
   ]
  },
  {
   "cell_type": "code",
   "execution_count": 3,
   "id": "e2dfeed6",
   "metadata": {},
   "outputs": [],
   "source": [
    "basepath='/Users/aslahmp/Documents/projects/typing center projects/tanseeq/bc/Exported Tables/'"
   ]
  },
  {
   "cell_type": "code",
   "execution_count": 4,
   "id": "6de8fd61",
   "metadata": {},
   "outputs": [],
   "source": [
    "review = pd.read_csv(f'{basepath}{filename}.csv')"
   ]
  },
  {
   "cell_type": "code",
   "execution_count": 5,
   "id": "c2a2ba35",
   "metadata": {},
   "outputs": [
    {
     "name": "stdout",
     "output_type": "stream",
     "text": [
      "id               0\n",
      "companyName      0\n",
      "address          0\n",
      "remark         297\n",
      "notes          273\n",
      "invoiceDate      0\n",
      "dueDate          0\n",
      "subTotal         0\n",
      "balanceDue       0\n",
      "advance          0\n",
      "createdBy        0\n",
      "createdAt        0\n",
      "updatedAt        0\n",
      "deletedAt      489\n",
      "dtype: int64\n"
     ]
    }
   ],
   "source": [
    "print(review.isnull().sum())"
   ]
  },
  {
   "cell_type": "code",
   "execution_count": 8,
   "id": "2c36bd8f",
   "metadata": {},
   "outputs": [],
   "source": [
    "review['remark'] = review['remark'].fillna(' ')"
   ]
  },
  {
   "cell_type": "code",
   "execution_count": 9,
   "id": "4d2c2430",
   "metadata": {},
   "outputs": [
    {
     "name": "stdout",
     "output_type": "stream",
     "text": [
      "id               0\n",
      "companyName      0\n",
      "address          0\n",
      "remark           0\n",
      "notes            0\n",
      "invoiceDate      0\n",
      "dueDate          0\n",
      "subTotal         0\n",
      "balanceDue       0\n",
      "advance          0\n",
      "createdBy        0\n",
      "createdAt        0\n",
      "updatedAt        0\n",
      "deletedAt      489\n",
      "dtype: int64\n"
     ]
    }
   ],
   "source": [
    "print(review.isnull().sum())"
   ]
  },
  {
   "cell_type": "code",
   "execution_count": 10,
   "id": "1e9d9ec4",
   "metadata": {},
   "outputs": [],
   "source": [
    "review.to_csv(f'{basepath}{filename}1.csv', index=False)"
   ]
  }
 ],
 "metadata": {
  "kernelspec": {
   "display_name": "Python 3 (ipykernel)",
   "language": "python",
   "name": "python3"
  },
  "language_info": {
   "codemirror_mode": {
    "name": "ipython",
    "version": 3
   },
   "file_extension": ".py",
   "mimetype": "text/x-python",
   "name": "python",
   "nbconvert_exporter": "python",
   "pygments_lexer": "ipython3",
   "version": "3.11.5"
  }
 },
 "nbformat": 4,
 "nbformat_minor": 5
}
